{
 "cells": [
  {
   "cell_type": "code",
   "execution_count": 1,
   "metadata": {},
   "outputs": [
    {
     "ename": "ImportError",
     "evalue": "No module named keras.datasets",
     "output_type": "error",
     "traceback": [
      "\u001b[0;31m---------------------------------------------------------------------------\u001b[0m",
      "\u001b[0;31mImportError\u001b[0m                               Traceback (most recent call last)",
      "\u001b[0;32m<ipython-input-1-665e4651e86f>\u001b[0m in \u001b[0;36m<module>\u001b[0;34m()\u001b[0m\n\u001b[0;32m----> 1\u001b[0;31m \u001b[0;32mfrom\u001b[0m \u001b[0mkeras\u001b[0m\u001b[0;34m.\u001b[0m\u001b[0mdatasets\u001b[0m \u001b[0;32mimport\u001b[0m \u001b[0mimdb\u001b[0m\u001b[0;34m\u001b[0m\u001b[0m\n\u001b[0m\u001b[1;32m      2\u001b[0m \u001b[0;34m\u001b[0m\u001b[0m\n\u001b[1;32m      3\u001b[0m \u001b[0;31m# number of words to consider as features\u001b[0m\u001b[0;34m\u001b[0m\u001b[0;34m\u001b[0m\u001b[0m\n\u001b[1;32m      4\u001b[0m \u001b[0mmax_features\u001b[0m \u001b[0;34m=\u001b[0m \u001b[0;36m10000\u001b[0m\u001b[0;34m\u001b[0m\u001b[0m\n\u001b[1;32m      5\u001b[0m \u001b[0;34m(\u001b[0m\u001b[0mx_train\u001b[0m\u001b[0;34m,\u001b[0m\u001b[0my_train\u001b[0m\u001b[0;34m)\u001b[0m\u001b[0;34m,\u001b[0m\u001b[0;34m(\u001b[0m\u001b[0mx_test\u001b[0m\u001b[0;34m,\u001b[0m\u001b[0my_test\u001b[0m\u001b[0;34m)\u001b[0m \u001b[0;34m=\u001b[0m \u001b[0mimdb\u001b[0m\u001b[0;34m.\u001b[0m\u001b[0mload_data\u001b[0m\u001b[0;34m(\u001b[0m\u001b[0mnum_words\u001b[0m\u001b[0;34m=\u001b[0m\u001b[0mmax_features\u001b[0m\u001b[0;34m)\u001b[0m\u001b[0;34m\u001b[0m\u001b[0m\n",
      "\u001b[0;31mImportError\u001b[0m: No module named keras.datasets"
     ]
    }
   ],
   "source": [
    "from keras.datasets import imdb\n",
    "\n",
    "# number of words to consider as features\n",
    "max_features = 10000\n",
    "(x_train,y_train),(x_test,y_test) = imdb.load_data(num_words=max_features)\n",
    "print(x_train)\n",
    "print(x_test)"
   ]
  },
  {
   "cell_type": "code",
   "execution_count": 2,
   "metadata": {
    "collapsed": true
   },
   "outputs": [],
   "source": [
    "from keras import preprocessing\n",
    "# cut texts after this number of words\n",
    "maxlen = 20\n",
    "x_train = preprocessing.sequence.pad_sequences(x_train,maxlen=maxlen)\n",
    "x_test = preprocessing.sequence.pad_sequences(x_test,maxlen=maxlen)"
   ]
  },
  {
   "cell_type": "code",
   "execution_count": 5,
   "metadata": {},
   "outputs": [
    {
     "name": "stdout",
     "output_type": "stream",
     "text": [
      "_________________________________________________________________\n",
      "Layer (type)                 Output Shape              Param #   \n",
      "=================================================================\n",
      "embedding_2 (Embedding)      (None, 20, 8)             80000     \n",
      "_________________________________________________________________\n",
      "flatten_2 (Flatten)          (None, 160)               0         \n",
      "_________________________________________________________________\n",
      "dense_2 (Dense)              (None, 1)                 161       \n",
      "=================================================================\n",
      "Total params: 80,161\n",
      "Trainable params: 80,161\n",
      "Non-trainable params: 0\n",
      "_________________________________________________________________\n"
     ]
    }
   ],
   "source": [
    "from keras.models import Sequential\n",
    "from keras.layers import Flatten,Dense,Embedding\n",
    "\n",
    "model = Sequential()\n",
    "model.add(Embedding(10000,8,input_length=maxlen))\n",
    "model.add(Flatten())\n",
    "model.add(Dense(1,activation='sigmoid'))\n",
    "model.compile(optimizer='rmsprop',loss='binary_crossentropy',metrics = ['acc'])\n",
    "model.summary()"
   ]
  },
  {
   "cell_type": "code",
   "execution_count": 6,
   "metadata": {},
   "outputs": [
    {
     "name": "stdout",
     "output_type": "stream",
     "text": [
      "Train on 20000 samples, validate on 5000 samples\n",
      "Epoch 1/10\n",
      "20000/20000 [==============================] - 2s - loss: 0.6847 - acc: 0.5702 - val_loss: 0.6635 - val_acc: 0.6550\n",
      "Epoch 2/10\n",
      "20000/20000 [==============================] - 1s - loss: 0.5929 - acc: 0.7279 - val_loss: 0.5628 - val_acc: 0.7098\n",
      "Epoch 3/10\n",
      "20000/20000 [==============================] - 1s - loss: 0.4898 - acc: 0.7758 - val_loss: 0.5181 - val_acc: 0.7362\n",
      "Epoch 4/10\n",
      "20000/20000 [==============================] - 1s - loss: 0.4345 - acc: 0.8039 - val_loss: 0.5026 - val_acc: 0.7474\n",
      "Epoch 5/10\n",
      "20000/20000 [==============================] - 1s - loss: 0.3994 - acc: 0.8256 - val_loss: 0.5002 - val_acc: 0.7462\n",
      "Epoch 6/10\n",
      "20000/20000 [==============================] - 1s - loss: 0.3728 - acc: 0.8386 - val_loss: 0.5036 - val_acc: 0.7478\n",
      "Epoch 7/10\n",
      "20000/20000 [==============================] - 1s - loss: 0.3503 - acc: 0.8513 - val_loss: 0.5097 - val_acc: 0.7460\n",
      "Epoch 8/10\n",
      "20000/20000 [==============================] - 1s - loss: 0.3305 - acc: 0.8605 - val_loss: 0.5179 - val_acc: 0.7488\n",
      "Epoch 9/10\n",
      "20000/20000 [==============================] - 1s - loss: 0.3118 - acc: 0.8718 - val_loss: 0.5278 - val_acc: 0.7462\n",
      "Epoch 10/10\n",
      "20000/20000 [==============================] - 1s - loss: 0.2948 - acc: 0.8787 - val_loss: 0.5382 - val_acc: 0.7442\n"
     ]
    }
   ],
   "source": [
    "history = model.fit(x_train,y_train,\n",
    "                    epochs=10,\n",
    "                    batch_size=32,\n",
    "                    validation_split=0.2)"
   ]
  },
  {
   "cell_type": "code",
   "execution_count": null,
   "metadata": {
    "collapsed": true
   },
   "outputs": [],
   "source": []
  }
 ],
 "metadata": {
  "kernelspec": {
   "display_name": "Python 2",
   "language": "python",
   "name": "python2"
  },
  "language_info": {
   "codemirror_mode": {
    "name": "ipython",
    "version": 2
   },
   "file_extension": ".py",
   "mimetype": "text/x-python",
   "name": "python",
   "nbconvert_exporter": "python",
   "pygments_lexer": "ipython2",
   "version": "2.7.13"
  }
 },
 "nbformat": 4,
 "nbformat_minor": 1
}
